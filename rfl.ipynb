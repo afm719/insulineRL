{
  "cells": [
    {
      "cell_type": "markdown",
      "id": "9306ea2f",
      "metadata": {
        "id": "9306ea2f"
      },
      "source": [
        "# Insuline simulator\n",
        "\n",
        "The goal of this project is to improve the quality of life for individuals with type 1 diabetes. We focus on simulating food and carbohydrate intake to automatically deliver the appropriate insulin dose when needed, ensuring that glucose levels are consistently kept within a healthy range.\n",
        "### System Methodology\n",
        "\n",
        "To train our RL agent safely and efficiently, we have constructed a digital simulation environment using the `simglucose` library, a validated simulator that models the complex dynamics of glucose in the human body. The key to our system is a \"wrapper\" class that adapts this simulation to the standardized interface of `gymnasium`, the industry standard for RL environments.\n",
        "\n",
        "This environment defines the \"playground\" for our AI and is composed of the following elements:\n",
        "\n",
        "1.  **Environment Construction**: Upon starting a simulation, the system configures a complete virtual scenario. A virtual patient is selected from a set of predefined profiles, each with its own physiological parameters. Next, the simulated devices are initialized: a Continuous Glucose Monitor (CGM), which acts as the agent's \"eyes,\" and an insulin pump, which serves as its \"hands.\" Finally, a meal scenario is introduced to simulate carbohydrate intake.\n",
        "\n",
        "2.  **Interaction and Learning**: The training occurs in discrete 15-minute cycles. In each step:\n",
        "    * The agent **observes** the current glucose level, $G(t)$.\n",
        "    * Based on this observation, it decides on an **action**: the insulin dose to be administered.\n",
        "    * The environment receives this action, the simulation advances by 15 minutes, and `simglucose` calculates the new glucose level, $G(t+15)$, accounting for both the injected insulin and the effect of meals.\n",
        "    * The agent receives a **reward**: a positive score is awarded for maintaining glucose within the target range, while states of hypoglycemia and hyperglycemia are heavily penalized.\n",
        "\n",
        "Through thousands of these \"trial-and-error\" cycles, the agent learns to associate specific glucose levels with optimal insulin doses, with the ultimate goal of maximizing its cumulative reward and, therefore, maintaining the virtual patient's glycemic stability. This project represents a step towards more intelligent, dynamic, and personalized diabetes control systems.\n",
        "\n",
        "### Why simglucose?\n",
        "\n",
        "This is the main engine of the simulation. It provides the mathematical models for:\n",
        "\n",
        "* **T1DPatient:** Simulates the physiology of a patient with type 1 diabetes (how their body reacts to insulin, carbohydrates, etc.).\n",
        "* **CGMSensor:** Simulates a Continuous Glucose Monitor (CGM), which measures the patient's glucose level.\n",
        "* **InsulinPump:** Simulates an insulin pump, the device that administers insulin.\n",
        "* **RandomScenario:** Creates random scenarios (meals at unexpected times) to make the simulation more realistic.\n"
      ]
    },
    {
      "cell_type": "code",
      "execution_count": 1,
      "id": "-P87jZfikLU5",
      "metadata": {
        "colab": {
          "base_uri": "https://localhost:8080/"
        },
        "id": "-P87jZfikLU5",
        "outputId": "60c67ef2-0c68-4f1a-8b64-29761cd475fb"
      },
      "outputs": [
        {
          "name": "stdout",
          "output_type": "stream",
          "text": [
            "Requirement already satisfied: matplotlib in /usr/local/lib/python3.11/dist-packages (3.10.0)\n",
            "Requirement already satisfied: numpy in /usr/local/lib/python3.11/dist-packages (2.0.2)\n",
            "Collecting simglucose\n",
            "  Downloading simglucose-0.2.11-py3-none-any.whl.metadata (16 kB)\n",
            "Requirement already satisfied: contourpy>=1.0.1 in /usr/local/lib/python3.11/dist-packages (from matplotlib) (1.3.2)\n",
            "Requirement already satisfied: cycler>=0.10 in /usr/local/lib/python3.11/dist-packages (from matplotlib) (0.12.1)\n",
            "Requirement already satisfied: fonttools>=4.22.0 in /usr/local/lib/python3.11/dist-packages (from matplotlib) (4.58.1)\n",
            "Requirement already satisfied: kiwisolver>=1.3.1 in /usr/local/lib/python3.11/dist-packages (from matplotlib) (1.4.8)\n",
            "Requirement already satisfied: packaging>=20.0 in /usr/local/lib/python3.11/dist-packages (from matplotlib) (24.2)\n",
            "Requirement already satisfied: pillow>=8 in /usr/local/lib/python3.11/dist-packages (from matplotlib) (11.2.1)\n",
            "Requirement already satisfied: pyparsing>=2.3.1 in /usr/local/lib/python3.11/dist-packages (from matplotlib) (3.2.3)\n",
            "Requirement already satisfied: python-dateutil>=2.7 in /usr/local/lib/python3.11/dist-packages (from matplotlib) (2.9.0.post0)\n",
            "Collecting gym==0.9.4 (from simglucose)\n",
            "  Downloading gym-0.9.4.tar.gz (157 kB)\n",
            "\u001b[2K     \u001b[90m━━━━━━━━━━━━━━━━━━━━━━━━━━━━━━━━━━━━━━━\u001b[0m \u001b[32m157.8/157.8 kB\u001b[0m \u001b[31m2.6 MB/s\u001b[0m eta \u001b[36m0:00:00\u001b[0m\n",
            "\u001b[?25h  Preparing metadata (setup.py) ... \u001b[?25l\u001b[?25hdone\n",
            "Collecting gymnasium~=0.29.1 (from simglucose)\n",
            "  Downloading gymnasium-0.29.1-py3-none-any.whl.metadata (10 kB)\n",
            "Collecting pathos>=0.3.1 (from simglucose)\n",
            "  Downloading pathos-0.3.4-py3-none-any.whl.metadata (11 kB)\n",
            "Requirement already satisfied: scipy>=1.11.0 in /usr/local/lib/python3.11/dist-packages (from simglucose) (1.15.3)\n",
            "Requirement already satisfied: pandas>=2.0.3 in /usr/local/lib/python3.11/dist-packages (from simglucose) (2.2.2)\n",
            "Requirement already satisfied: requests>=2.0 in /usr/local/lib/python3.11/dist-packages (from gym==0.9.4->simglucose) (2.32.3)\n",
            "Requirement already satisfied: six in /usr/local/lib/python3.11/dist-packages (from gym==0.9.4->simglucose) (1.17.0)\n",
            "Collecting pyglet>=1.2.0 (from gym==0.9.4->simglucose)\n",
            "  Downloading pyglet-2.1.6-py3-none-any.whl.metadata (7.7 kB)\n",
            "Requirement already satisfied: cloudpickle>=1.2.0 in /usr/local/lib/python3.11/dist-packages (from gymnasium~=0.29.1->simglucose) (3.1.1)\n",
            "Requirement already satisfied: typing-extensions>=4.3.0 in /usr/local/lib/python3.11/dist-packages (from gymnasium~=0.29.1->simglucose) (4.14.0)\n",
            "Requirement already satisfied: farama-notifications>=0.0.1 in /usr/local/lib/python3.11/dist-packages (from gymnasium~=0.29.1->simglucose) (0.0.4)\n",
            "Requirement already satisfied: pytz>=2020.1 in /usr/local/lib/python3.11/dist-packages (from pandas>=2.0.3->simglucose) (2025.2)\n",
            "Requirement already satisfied: tzdata>=2022.7 in /usr/local/lib/python3.11/dist-packages (from pandas>=2.0.3->simglucose) (2025.2)\n",
            "Collecting ppft>=1.7.7 (from pathos>=0.3.1->simglucose)\n",
            "  Downloading ppft-1.7.7-py3-none-any.whl.metadata (12 kB)\n",
            "Collecting dill>=0.4.0 (from pathos>=0.3.1->simglucose)\n",
            "  Downloading dill-0.4.0-py3-none-any.whl.metadata (10 kB)\n",
            "Collecting pox>=0.3.6 (from pathos>=0.3.1->simglucose)\n",
            "  Downloading pox-0.3.6-py3-none-any.whl.metadata (8.0 kB)\n",
            "Collecting multiprocess>=0.70.18 (from pathos>=0.3.1->simglucose)\n",
            "  Downloading multiprocess-0.70.18-py311-none-any.whl.metadata (7.5 kB)\n",
            "Requirement already satisfied: charset-normalizer<4,>=2 in /usr/local/lib/python3.11/dist-packages (from requests>=2.0->gym==0.9.4->simglucose) (3.4.2)\n",
            "Requirement already satisfied: idna<4,>=2.5 in /usr/local/lib/python3.11/dist-packages (from requests>=2.0->gym==0.9.4->simglucose) (3.10)\n",
            "Requirement already satisfied: urllib3<3,>=1.21.1 in /usr/local/lib/python3.11/dist-packages (from requests>=2.0->gym==0.9.4->simglucose) (2.4.0)\n",
            "Requirement already satisfied: certifi>=2017.4.17 in /usr/local/lib/python3.11/dist-packages (from requests>=2.0->gym==0.9.4->simglucose) (2025.4.26)\n",
            "Downloading simglucose-0.2.11-py3-none-any.whl (43 kB)\n",
            "\u001b[2K   \u001b[90m━━━━━━━━━━━━━━━━━━━━━━━━━━━━━━━━━━━━━━━━\u001b[0m \u001b[32m43.7/43.7 kB\u001b[0m \u001b[31m1.7 MB/s\u001b[0m eta \u001b[36m0:00:00\u001b[0m\n",
            "\u001b[?25hDownloading gymnasium-0.29.1-py3-none-any.whl (953 kB)\n",
            "\u001b[2K   \u001b[90m━━━━━━━━━━━━━━━━━━━━━━━━━━━━━━━━━━━━━━━━\u001b[0m \u001b[32m953.9/953.9 kB\u001b[0m \u001b[31m27.6 MB/s\u001b[0m eta \u001b[36m0:00:00\u001b[0m\n",
            "\u001b[?25hDownloading pathos-0.3.4-py3-none-any.whl (82 kB)\n",
            "\u001b[2K   \u001b[90m━━━━━━━━━━━━━━━━━━━━━━━━━━━━━━━━━━━━━━━━\u001b[0m \u001b[32m82.3/82.3 kB\u001b[0m \u001b[31m4.3 MB/s\u001b[0m eta \u001b[36m0:00:00\u001b[0m\n",
            "\u001b[?25hDownloading dill-0.4.0-py3-none-any.whl (119 kB)\n",
            "\u001b[2K   \u001b[90m━━━━━━━━━━━━━━━━━━━━━━━━━━━━━━━━━━━━━━━━\u001b[0m \u001b[32m119.7/119.7 kB\u001b[0m \u001b[31m5.4 MB/s\u001b[0m eta \u001b[36m0:00:00\u001b[0m\n",
            "\u001b[?25hDownloading multiprocess-0.70.18-py311-none-any.whl (144 kB)\n",
            "\u001b[2K   \u001b[90m━━━━━━━━━━━━━━━━━━━━━━━━━━━━━━━━━━━━━━━━\u001b[0m \u001b[32m144.5/144.5 kB\u001b[0m \u001b[31m9.0 MB/s\u001b[0m eta \u001b[36m0:00:00\u001b[0m\n",
            "\u001b[?25hDownloading pox-0.3.6-py3-none-any.whl (29 kB)\n",
            "Downloading ppft-1.7.7-py3-none-any.whl (56 kB)\n",
            "\u001b[2K   \u001b[90m━━━━━━━━━━━━━━━━━━━━━━━━━━━━━━━━━━━━━━━━\u001b[0m \u001b[32m56.8/56.8 kB\u001b[0m \u001b[31m4.2 MB/s\u001b[0m eta \u001b[36m0:00:00\u001b[0m\n",
            "\u001b[?25hDownloading pyglet-2.1.6-py3-none-any.whl (983 kB)\n",
            "\u001b[2K   \u001b[90m━━━━━━━━━━━━━━━━━━━━━━━━━━━━━━━━━━━━━━━━\u001b[0m \u001b[32m984.0/984.0 kB\u001b[0m \u001b[31m30.5 MB/s\u001b[0m eta \u001b[36m0:00:00\u001b[0m\n",
            "\u001b[?25hBuilding wheels for collected packages: gym\n",
            "  Building wheel for gym (setup.py) ... \u001b[?25l\u001b[?25hdone\n",
            "  Created wheel for gym: filename=gym-0.9.4-py3-none-any.whl size=215456 sha256=e1c4f5f50df475f7adaba85100ca375ce070b1d37a232d6e6972e87c9287983d\n",
            "  Stored in directory: /root/.cache/pip/wheels/58/15/94/ba557fc2d79dc47517afe5718a773590e1dd90ec74ccd3d38a\n",
            "Successfully built gym\n",
            "Installing collected packages: pyglet, ppft, pox, gymnasium, dill, multiprocess, gym, pathos, simglucose\n",
            "  Attempting uninstall: gymnasium\n",
            "    Found existing installation: gymnasium 1.1.1\n",
            "    Uninstalling gymnasium-1.1.1:\n",
            "      Successfully uninstalled gymnasium-1.1.1\n",
            "  Attempting uninstall: dill\n",
            "    Found existing installation: dill 0.3.7\n",
            "    Uninstalling dill-0.3.7:\n",
            "      Successfully uninstalled dill-0.3.7\n",
            "  Attempting uninstall: multiprocess\n",
            "    Found existing installation: multiprocess 0.70.15\n",
            "    Uninstalling multiprocess-0.70.15:\n",
            "      Successfully uninstalled multiprocess-0.70.15\n",
            "  Attempting uninstall: gym\n",
            "    Found existing installation: gym 0.25.2\n",
            "    Uninstalling gym-0.25.2:\n",
            "      Successfully uninstalled gym-0.25.2\n",
            "\u001b[31mERROR: pip's dependency resolver does not currently take into account all the packages that are installed. This behaviour is the source of the following dependency conflicts.\n",
            "dopamine-rl 4.1.2 requires gymnasium>=1.0.0, but you have gymnasium 0.29.1 which is incompatible.\n",
            "datasets 2.14.4 requires dill<0.3.8,>=0.3.0, but you have dill 0.4.0 which is incompatible.\u001b[0m\u001b[31m\n",
            "\u001b[0mSuccessfully installed dill-0.4.0 gym-0.9.4 gymnasium-0.29.1 multiprocess-0.70.18 pathos-0.3.4 pox-0.3.6 ppft-1.7.7 pyglet-2.1.6 simglucose-0.2.11\n"
          ]
        }
      ],
      "source": [
        "!pip install matplotlib numpy simglucose"
      ]
    },
    {
      "cell_type": "code",
      "execution_count": 2,
      "id": "87cc94bf",
      "metadata": {
        "id": "87cc94bf"
      },
      "outputs": [],
      "source": [
        "import matplotlib.pyplot as plt\n",
        "import matplotlib\n",
        "import numpy as np\n",
        "from simglucose.envs.simglucose_gym_env import T1DSimEnv\n",
        "from simglucose.simulation.scenario import Scenario"
      ]
    },
    {
      "cell_type": "code",
      "execution_count": 3,
      "id": "2a5b0542",
      "metadata": {
        "id": "2a5b0542"
      },
      "outputs": [],
      "source": [
        "def discretize_glucose(glucose, glucose_velocity, bins=[70, 120, 180]):\n",
        "    # Bins: <70, 70-120, 120-180, >180\n",
        "    if glucose < 70:\n",
        "        glucose_level = 0\n",
        "    elif glucose < 120:\n",
        "        glucose_level = 1\n",
        "    elif glucose < 180:\n",
        "        glucose_level = 2\n",
        "    else:\n",
        "        glucose_level = 3\n",
        "\n",
        "    if glucose_velocity < -5: # fast down\n",
        "        velocity_level = 0\n",
        "    elif glucose_velocity > 5: # fast up\n",
        "        velocity_level = 2\n",
        "    else:\n",
        "        velocity_level = 1\n",
        "\n",
        "\n",
        "    return glucose_level * 3 + velocity_level"
      ]
    },
    {
      "cell_type": "code",
      "execution_count": 4,
      "id": "5e4afce7",
      "metadata": {
        "id": "5e4afce7"
      },
      "outputs": [],
      "source": [
        "action_space = np.arange(0, 3.5, 0.5) # e.g. 0, 0.5, ..., 6\n",
        "n_actions = len(action_space)\n",
        "n_states = 12 # 4 level of glucose * 3 levels of velocity"
      ]
    },
    {
      "cell_type": "code",
      "execution_count": 5,
      "id": "65c903a1",
      "metadata": {
        "id": "65c903a1"
      },
      "outputs": [],
      "source": [
        "def reward_fn(glucose):\n",
        "    mu = 115\n",
        "    sigma = 25\n",
        "    reward = np.exp(-0.5 * ((glucose - mu) / sigma) ** 2)\n",
        "    if glucose < 70:\n",
        "        reward -= 2.0\n",
        "    return reward"
      ]
    },
    {
      "cell_type": "code",
      "execution_count": 6,
      "id": "10a50049",
      "metadata": {
        "id": "10a50049"
      },
      "outputs": [],
      "source": [
        "class TDControlAgent:\n",
        "    def __init__(self, n_states, n_actions, gamma=0.99, lr=0.1, alg=\"qlearning\"):\n",
        "        self.gamma = gamma\n",
        "        self.lr = lr\n",
        "        self.n_states = n_states\n",
        "        self.n_actions = n_actions\n",
        "        self.Qvalues = np.zeros((n_states, n_actions))\n",
        "        self.alg = alg # \"sarsa\" or \"qlearning\"\n",
        "\n",
        "    def get_action_epsilon_greedy(self, s, eps):\n",
        "        if np.random.rand() < eps:\n",
        "            return np.random.randint(self.n_actions)\n",
        "        else:\n",
        "            best_value = np.max(self.Qvalues[s])\n",
        "            best_actions = (self.Qvalues[s] == best_value)\n",
        "            prob_actions = best_actions / np.sum(best_actions)\n",
        "            return np.random.choice(self.n_actions, p=prob_actions)\n",
        "\n",
        "    def single_step_update(self, s, a, r, new_s, new_a=None, done=False):\n",
        "        if self.alg == \"sarsa\":\n",
        "            if done:\n",
        "                deltaQ = r - self.Qvalues[s, a]\n",
        "            else:\n",
        "                deltaQ = r + self.gamma * self.Qvalues[new_s, new_a] - self.Qvalues[s, a]\n",
        "        elif self.alg == \"qlearning\":\n",
        "            if done:\n",
        "                deltaQ = r - self.Qvalues[s, a]\n",
        "            else:\n",
        "                deltaQ = r + self.gamma * np.max(self.Qvalues[new_s]) - self.Qvalues[s, a]\n",
        "        else:\n",
        "            raise ValueError(\"Unknown algorithm\")\n",
        "        self.Qvalues[s, a] += self.lr * deltaQ"
      ]
    },
    {
      "cell_type": "code",
      "execution_count": 7,
      "id": "cf73309f",
      "metadata": {
        "id": "cf73309f"
      },
      "outputs": [],
      "source": [
        "env = T1DSimEnv()\n",
        "agent = TDControlAgent(n_states=n_states, n_actions=n_actions, gamma=0.99, lr=0.05, alg=\"qlearning\") # or \"sarsa\"\n",
        "epsilon = 0.1\n",
        "num_episodes = 5000\n",
        "performance = np.zeros(num_episodes)"
      ]
    },
    {
      "cell_type": "code",
      "execution_count": 8,
      "id": "35d9219f",
      "metadata": {
        "colab": {
          "base_uri": "https://localhost:8080/"
        },
        "id": "35d9219f",
        "outputId": "7e83dbca-35b2-4b03-949d-0de0d97c25f6"
      },
      "outputs": [
        {
          "name": "stdout",
          "output_type": "stream",
          "text": [
            "Episode 500/5000 completed.\n",
            "Episode 1000/5000 completed.\n",
            "Episode 1500/5000 completed.\n",
            "Episode 2000/5000 completed.\n",
            "Episode 2500/5000 completed.\n",
            "Episode 3000/5000 completed.\n",
            "Episode 3500/5000 completed.\n",
            "Episode 4000/5000 completed.\n",
            "Episode 4500/5000 completed.\n",
            "Episode 5000/5000 completed.\n",
            "\n",
            "Advanced training complete.\n"
          ]
        }
      ],
      "source": [
        "for episode in range(num_episodes):\n",
        "    obs = env.reset()\n",
        "    if hasattr(obs, \"CGM\"):\n",
        "        glucose = obs.CGM\n",
        "    else:\n",
        "        glucose = obs[0] if isinstance(obs, (np.ndarray, list)) else obs\n",
        "\n",
        "    # Initialize velocity and state\n",
        "    glucose_velocity = 0\n",
        "    s = discretize_glucose(glucose, glucose_velocity)\n",
        "    a = agent.get_action_epsilon_greedy(s, epsilon)\n",
        "\n",
        "    done = False\n",
        "    while not done:\n",
        "        # Agent takes an action\n",
        "        insulin_dose = action_space[a]\n",
        "        step_result = env.step(insulin_dose)\n",
        "        if isinstance(step_result, tuple) and len(step_result) == 4:\n",
        "            next_obs, _, done, info = step_result\n",
        "        else:\n",
        "            next_obs, done = step_result, False\n",
        "\n",
        "        # Extract next glucose reading\n",
        "        if hasattr(next_obs, \"CGM\"):\n",
        "            next_glucose = next_obs.CGM\n",
        "        else:\n",
        "            next_glucose = next_obs[0] if isinstance(next_obs, (np.ndarray, list)) else next_obs\n",
        "\n",
        "        # Calculate velocity\n",
        "        glucose_velocity = next_glucose - glucose\n",
        "\n",
        "        # Get reward and new state\n",
        "        r = reward_fn(next_glucose)\n",
        "        performance[episode] += r\n",
        "        new_s = discretize_glucose(next_glucose, glucose_velocity)\n",
        "\n",
        "        # --- COMBINED UPDATE AND DECISION LOGIC ---\n",
        "\n",
        "        # 1. Agent updates its knowledge\n",
        "        agent.single_step_update(s, a, r, new_s, done=done)\n",
        "\n",
        "        # 2. Decide the next action with the FORCED WAIT rule\n",
        "        if action_space[a] > 0:\n",
        "            a_next = 0  # If we just injected, the next action is 0\n",
        "        else:\n",
        "            a_next = agent.get_action_epsilon_greedy(new_s, epsilon)\n",
        "\n",
        "        # 3. Final safety rule\n",
        "        glucose_level = new_s // 3\n",
        "        if glucose_level < 2: # If glucose is < 120 mg/dL\n",
        "            a_next = 0\n",
        "\n",
        "        # 4. Update variables for the next loop iteration\n",
        "        glucose = next_glucose\n",
        "        s = new_s\n",
        "        a = a_next\n",
        "\n",
        "    # Print progress every 500 episodes\n",
        "    if (episode + 1) % 500 == 0:\n",
        "        print(f\"Episode {episode + 1}/{num_episodes} completed.\")\n",
        "\n",
        "print(\"\\nAdvanced training complete.\")"
      ]
    },
    {
      "cell_type": "code",
      "execution_count": 19,
      "id": "e458ff6b",
      "metadata": {
        "colab": {
          "base_uri": "https://localhost:8080/"
        },
        "id": "e458ff6b",
        "outputId": "27ece6a0-e21b-4dbd-ae20-cce09ac3d9bb"
      },
      "outputs": [
        {
          "name": "stdout",
          "output_type": "stream",
          "text": [
            "Model (Table Q) saved correctly in 'q_table.npy'!\n"
          ]
        }
      ],
      "source": [
        "np.save('q_table.npy', agent.Qvalues)\n",
        "print(\"Model (Table Q) saved correctly in 'q_table.npy'!\")"
      ]
    },
    {
      "cell_type": "code",
      "execution_count": 202,
      "id": "bf39eb96",
      "metadata": {
        "colab": {
          "base_uri": "https://localhost:8080/",
          "height": 881
        },
        "id": "bf39eb96",
        "outputId": "a6bee88a-598f-42f7-82c1-d792f8d61646"
      },
      "outputs": [
        {
          "name": "stdout",
          "output_type": "stream",
          "text": [
            "Scenario of meals generated:\n",
            "{'time': [np.float64(318.0), np.float64(727.0), np.float64(1166.0)], 'amount': [21, 72, 76]}\n"
          ]
        },
        {
          "data": {
            "image/png": "[encoded data removed]",
            "text/plain": [
              "<Figure size 1200x500 with 1 Axes>"
            ]
          },
          "metadata": {},
          "output_type": "display_data"
        },
        {
          "data": {
            "image/png": "[encoded data removed]",
            "text/plain": [
              "<Figure size 1200x400 with 1 Axes>"
            ]
          },
          "metadata": {},
          "output_type": "display_data"
        }
      ],
      "source": [
        "import matplotlib.pyplot as plt\n",
        "\n",
        "agent_test = TDControlAgent(n_states=n_states, n_actions=n_actions)\n",
        "agent_test.Qvalues = np.load('q_table.npy')\n",
        "# Set epsilon=0 for greedy policy (pure exploitation)\n",
        "epsilon_eval = 0.1\n",
        "\n",
        "# Start a new episode\n",
        "obs = env.reset()\n",
        "\n",
        "# # Access the scenario generator from the underlying environment\n",
        "scenario_generator = env.env.scenario\n",
        "\n",
        "print(\"Scenario of meals generated:\")\n",
        "\n",
        "# Access the 'meal' key from the scenario dictionary\n",
        "print(scenario_generator.scenario['meal'])\n",
        "if isinstance(obs, tuple):\n",
        "    obs = obs[0]\n",
        "if hasattr(obs, \"CGM\"):\n",
        "    glucose = obs.CGM\n",
        "elif isinstance(obs, dict) and 'CGM' in obs:\n",
        "    glucose = obs['CGM']\n",
        "elif isinstance(obs, (np.ndarray, list)):\n",
        "    glucose = obs[0]\n",
        "elif isinstance(obs, (float, int)):\n",
        "    glucose = obs\n",
        "else:\n",
        "    raise ValueError(f\"Unknown observation format: {type(obs)}\")\n",
        "\n",
        "glucose_velocity = 0\n",
        "s = discretize_glucose(glucose, glucose_velocity)\n",
        "a = agent_test.get_action_epsilon_greedy(s, epsilon_eval)\n",
        "done = False\n",
        "\n",
        "# Lists to record data\n",
        "G_t = [glucose]\n",
        "I_t = [action_space[a]]\n",
        "rewards = []\n",
        "times = [0]\n",
        "t = 0\n",
        "\n",
        "while not done:\n",
        "    insulin_dose = action_space[a]\n",
        "    step_result = env.step(insulin_dose)\n",
        "    if isinstance(step_result, tuple) and len(step_result) == 4:\n",
        "        next_obs, _, done, info = step_result\n",
        "    else:\n",
        "        next_obs = step_result\n",
        "        done = False\n",
        "\n",
        "    if hasattr(next_obs, \"CGM\"):\n",
        "        next_glucose = next_obs.CGM\n",
        "    elif isinstance(next_obs, dict) and 'CGM' in next_obs:\n",
        "        next_glucose = next_obs['CGM']\n",
        "    elif isinstance(next_obs, (np.ndarray, list)):\n",
        "        next_glucose = next_obs[0]\n",
        "    elif isinstance(next_obs, (float, int)):\n",
        "        next_glucose = next_obs\n",
        "    else:\n",
        "        raise ValueError(f\"Unknown observation format: {type(next_obs)}\")\n",
        "\n",
        "    glucose_velocity = next_glucose - glucose\n",
        "    new_s = discretize_glucose(next_glucose, glucose_velocity)\n",
        "    r = reward_fn(next_glucose)\n",
        "    rewards.append(r)\n",
        "    G_t.append(next_glucose)\n",
        "    I_t.append(insulin_dose)\n",
        "    t += 1\n",
        "    times.append(t)\n",
        "\n",
        "    glucose = next_glucose\n",
        "    s = new_s\n",
        "    a = agent_test.get_action_epsilon_greedy(s, epsilon_eval)\n",
        "    if s < 2:\n",
        "        a = 0  # Ensure no insulin is given if glucose is below 120\n",
        "\n",
        "# Plot glucose over time\n",
        "plt.figure(figsize=(12,5))\n",
        "plt.plot(times, G_t, label='Glucose (mg/dL)')\n",
        "plt.axhspan(70, 180, color='green', alpha=0.1, label='Target Range')\n",
        "plt.xlabel('Time step')\n",
        "plt.ylabel('Glucose (mg/dL)')\n",
        "plt.title('Glucose Trajectory under Learned Policy')\n",
        "plt.legend()\n",
        "plt.show()\n",
        "\n",
        "# Optional: Plot insulin doses\n",
        "plt.figure(figsize=(12,4))\n",
        "plt.step(times, I_t, label='Insulin Dose (U)', where='post')\n",
        "plt.xlabel('Time step')\n",
        "plt.ylabel('Insulin (units)')\n",
        "plt.title('Insulin Doses over Time')\n",
        "plt.legend()\n",
        "plt.show()"
      ]
    }
  ],
  "metadata": {
    "colab": {
      "gpuType": "T4",
      "provenance": []
    },
    "kernelspec": {
      "display_name": "Python 3",
      "name": "python3"
    },
    "language_info": {
      "codemirror_mode": {
        "name": "ipython",
        "version": 3
      },
      "file_extension": ".py",
      "mimetype": "text/x-python",
      "name": "python",
      "nbconvert_exporter": "python",
      "pygments_lexer": "ipython3",
      "version": "3.10.10"
    }
  },
  "nbformat": 4,
  "nbformat_minor": 5
}
